{
 "cells": [
  {
   "cell_type": "markdown",
   "metadata": {},
   "source": [
    "$\\nabla^2u = f(x,y), 0\\leq x\\leq1, 0\\leq y\\leq1 \\\\ f(x,y) = -32\\big( x(1-x)+y(1-y)\\big), u\\big|_{x,y \\in Г} = 0 \\\\ \\varepsilon = 10^{-6}$"
   ]
  },
  {
   "cell_type": "markdown",
   "metadata": {},
   "source": [
    "Возьмем $N_1 = 8$ и $N_2 = 6$ точек по двум направлениям. Тогда шаг: $h_1 = \\frac{1}{8}$, $h_2 = \\frac{1}{6}.$"
   ]
  },
  {
   "cell_type": "markdown",
   "metadata": {},
   "source": [
    "Зададим начальные значения $u^{(0)}_{i,j} = 0$ для внутренних точек и присвоим заданные значения $u_{i, j} = 0$ для граничных"
   ]
  },
  {
   "cell_type": "markdown",
   "metadata": {},
   "source": [
    "Реализуем $\\textit{алгоритм Зейделя}$ в виде:  "
   ]
  },
  {
   "cell_type": "markdown",
   "metadata": {},
   "source": [
    "$u_{i,j}^{(k)} = \\Bigg(\\frac{u_{i,j-1}^{(k)} + u_{i,j+1}^{(k-1)}}{h_1^2} + \\frac{u_{i-1,j}^{(k)} + u_{i+1,j}^{(k-1)}}{h_2^2} - f_{i,j}\\Bigg)/\\Bigg(\\frac{2}{h_1^2} + \\frac{2}{h_2^2}\\Bigg), j = 1, ..., N_1 -1, i = 1,..., N_2 - 1, k = 1,2,...$"
   ]
  },
  {
   "cell_type": "markdown",
   "metadata": {},
   "source": [
    "$k$ - номер итерации "
   ]
  },
  {
   "cell_type": "markdown",
   "metadata": {},
   "source": [
    "Счет ведется до тех пор, пока не будет выполнено следующее: "
   ]
  },
  {
   "cell_type": "markdown",
   "metadata": {},
   "source": [
    "$z_k = \\sum\\limits_{i = 1}^{N_2 - 1}\\sum\\limits_{j = 1}^{N_1 - 1}\\big|u_{i,j}^{(k)} - u_{i,j}^{(k-1)}\\big| < \\varepsilon$"
   ]
  },
  {
   "cell_type": "code",
   "execution_count": 121,
   "metadata": {},
   "outputs": [],
   "source": [
    "def f(x,y):\n",
    "    if 0 <= x <= 1 and 0 <= y <= 1:\n",
    "        return -32*(x*(1-x) + y*(1-y))\n",
    "    else: \n",
    "        return 0"
   ]
  },
  {
   "cell_type": "code",
   "execution_count": 146,
   "metadata": {},
   "outputs": [],
   "source": [
    "N_1 = 6 #число разбиений \n",
    "N_2 = 8"
   ]
  },
  {
   "cell_type": "code",
   "execution_count": 147,
   "metadata": {},
   "outputs": [],
   "source": [
    "h_1 = 1/N_1 #шаг\n",
    "h_2 = 1/N_2"
   ]
  },
  {
   "cell_type": "code",
   "execution_count": 124,
   "metadata": {},
   "outputs": [],
   "source": [
    "import numpy as np"
   ]
  },
  {
   "cell_type": "code",
   "execution_count": 164,
   "metadata": {},
   "outputs": [],
   "source": [
    "u = np.ones((N_1,N_2))"
   ]
  },
  {
   "cell_type": "code",
   "execution_count": 165,
   "metadata": {},
   "outputs": [
    {
     "name": "stdout",
     "output_type": "stream",
     "text": [
      "[[1. 1. 1. 1. 1. 1. 1. 1.]\n",
      " [1. 1. 1. 1. 1. 1. 1. 1.]\n",
      " [1. 1. 1. 1. 1. 1. 1. 1.]\n",
      " [1. 1. 1. 1. 1. 1. 1. 1.]\n",
      " [1. 1. 1. 1. 1. 1. 1. 1.]\n",
      " [1. 1. 1. 1. 1. 1. 1. 1.]]\n"
     ]
    }
   ],
   "source": [
    "print(u)"
   ]
  },
  {
   "cell_type": "code",
   "execution_count": 166,
   "metadata": {},
   "outputs": [],
   "source": [
    "for i in range(0,N_1):#учитываем значения u на границе \n",
    "    for j in range(0,N_2):\n",
    "        if j == 0 or j == N_2-1:\n",
    "            u[i,j] = 0\n",
    "        if i == 0 or i == N_1-1:\n",
    "            u[i,j] = 0"
   ]
  },
  {
   "cell_type": "code",
   "execution_count": 167,
   "metadata": {},
   "outputs": [
    {
     "name": "stdout",
     "output_type": "stream",
     "text": [
      "[[0. 0. 0. 0. 0. 0. 0. 0.]\n",
      " [0. 1. 1. 1. 1. 1. 1. 0.]\n",
      " [0. 1. 1. 1. 1. 1. 1. 0.]\n",
      " [0. 1. 1. 1. 1. 1. 1. 0.]\n",
      " [0. 1. 1. 1. 1. 1. 1. 0.]\n",
      " [0. 0. 0. 0. 0. 0. 0. 0.]]\n"
     ]
    }
   ],
   "source": [
    "print(u)"
   ]
  },
  {
   "cell_type": "code",
   "execution_count": 168,
   "metadata": {},
   "outputs": [
    {
     "name": "stdout",
     "output_type": "stream",
     "text": [
      "Wall time: 0 ns\n"
     ]
    }
   ],
   "source": [
    "%%time\n",
    "#непосредственное вычисление методом Зейделя \n",
    "\n",
    "k = 0\n",
    "idi = 0\n",
    "while idi == 0:\n",
    "    for i in range(1,N_1-1):\n",
    "        for j in range(1,N_2-1):\n",
    "            r = u\n",
    "            u[i,j] = ((u[i,j-1] + u[i,j+1])/(h_1**2) + (u[i-1,j] + u[i+1,j])/(h_2**2) - f(i,j))/(2/(h_1**2) + 2/(h_2**2))\n",
    "            z = abs(u[i,j] - r)\n",
    "    k = k + 1\n",
    "    if z.all() < 0.000001 and k < 100:\n",
    "        idi = 1"
   ]
  },
  {
   "cell_type": "code",
   "execution_count": 181,
   "metadata": {},
   "outputs": [
    {
     "name": "stdout",
     "output_type": "stream",
     "text": [
      "[[0.     0.     0.     0.     0.     0.     0.     0.    ]\n",
      " [0.     0.5    0.59   0.6062 0.6091 0.6096 0.4297 0.    ]\n",
      " [0.     0.66   0.8076 0.8394 0.846  0.8474 0.61   0.    ]\n",
      " [0.     0.7112 0.8864 0.9282 0.9378 0.94   0.6844 0.    ]\n",
      " [0.     0.4076 0.537  0.5737 0.5834 0.5858 0.3245 0.    ]\n",
      " [0.     0.     0.     0.     0.     0.     0.     0.    ]]\n"
     ]
    }
   ],
   "source": [
    "#итоговая матрица ответов\n",
    "for i in range(0,N_1):\n",
    "    for j in range(0,N_2):\n",
    "        u[i,j] = round(u[i,j],4)        \n",
    "print(u)\n"
   ]
  }
 ],
 "metadata": {
  "kernelspec": {
   "display_name": "Python 3",
   "language": "python",
   "name": "python3"
  },
  "language_info": {
   "codemirror_mode": {
    "name": "ipython",
    "version": 3
   },
   "file_extension": ".py",
   "mimetype": "text/x-python",
   "name": "python",
   "nbconvert_exporter": "python",
   "pygments_lexer": "ipython3",
   "version": "3.6.5"
  }
 },
 "nbformat": 4,
 "nbformat_minor": 2
}
