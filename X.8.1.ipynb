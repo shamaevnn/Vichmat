{
 "cells": [
  {
   "cell_type": "markdown",
   "metadata": {},
   "source": [
    "Дана задача $y'' - 10y^{'} - 11y = 0$, $y(0) = 1$, $y{'}(0) = -1$ на интервале [0,10] "
   ]
  },
  {
   "cell_type": "markdown",
   "metadata": {},
   "source": [
    "Прежде всего, сведем эту задачу к системе уравнений "
   ]
  },
  {
   "cell_type": "markdown",
   "metadata": {},
   "source": [
    "\\begin{equation*}\n",
    " \\begin{cases}\n",
    "   y^{'} = z, \n",
    "   \\\\\n",
    "   z^{'} = 10z + 11y.\n",
    " \\end{cases}\n",
    " , y(0) = 1, z(0) = -1.\n",
    "\\end{equation*}"
   ]
  },
  {
   "cell_type": "markdown",
   "metadata": {},
   "source": [
    "Далее используем простой метод Эйлера "
   ]
  },
  {
   "cell_type": "markdown",
   "metadata": {},
   "source": [
    "$k = z_{i};\\\\l = 10z_{i} + 11y_{i}$"
   ]
  },
  {
   "cell_type": "markdown",
   "metadata": {},
   "source": [
    "\\begin{equation*}\n",
    " \\begin{cases}\n",
    "   y_{i+1} = y_{i} + hk, \n",
    "   \\\\\n",
    "   z_{i+1} = z_{i} + hl.\n",
    " \\end{cases}\n",
    " , т.е. \n",
    " \\begin{cases}\n",
    "   y_{i+1} = y_{i} + hz_{i}, \n",
    "   \\\\\n",
    "   z_{i+1} = z_{i} + h(10z_i + 11y_i).\n",
    " \\end{cases},   y_0 = 1, z_0 = -1\n",
    "\\end{equation*}"
   ]
  },
  {
   "cell_type": "code",
   "execution_count": 12,
   "metadata": {},
   "outputs": [],
   "source": [
    "def equation(n,h):\n",
    "    if n == 0:\n",
    "        return 1, -1\n",
    "    if n > 0:\n",
    "        return equation(n-1,h)[0] + h*equation(n-1,h)[1], equation(n-1,h)[1] + h*(10*equation(n-1,h)[1] + 11*equation(n-1,h)[0]) \n",
    "    "
   ]
  },
  {
   "cell_type": "code",
   "execution_count": 47,
   "metadata": {},
   "outputs": [],
   "source": [
    "def solution(eps,h):\n",
    "    n = 1\n",
    "    array = []\n",
    "    x = []\n",
    "    array.append(equation(0,h)[0])\n",
    "    while abs(equation(n,h)[0] - equation(n-1,h)[0])  > eps and n < 10//h:\n",
    "        array.append(equation(n,h)[0])\n",
    "        n += 1\n",
    "    for i in range(len(array)):\n",
    "        x.append(h*i) \n",
    "    return array, x"
   ]
  },
  {
   "cell_type": "code",
   "execution_count": 53,
   "metadata": {},
   "outputs": [],
   "source": [
    "results = solution(0.01,0.3)"
   ]
  },
  {
   "cell_type": "code",
   "execution_count": 50,
   "metadata": {},
   "outputs": [],
   "source": [
    "from matplotlib import pylab as plt"
   ]
  },
  {
   "cell_type": "code",
   "execution_count": 51,
   "metadata": {},
   "outputs": [],
   "source": [
    "def plot(results):\n",
    "    plt.plot(results[1], results[0])\n",
    "    plt.show()"
   ]
  },
  {
   "cell_type": "code",
   "execution_count": 55,
   "metadata": {},
   "outputs": [
    {
     "data": {
      "image/png": "[encoded data removed]",
      "text/plain": [
       "<Figure size 432x288 with 1 Axes>"
      ]
     },
     "metadata": {},
     "output_type": "display_data"
    }
   ],
   "source": [
    "plot(results)"
   ]
  },
  {
   "cell_type": "markdown",
   "metadata": {},
   "source": [
    "Как мы видим, решение согласуется с аналитическим решением $y = e^{-x}$"
   ]
  }
 ],
 "metadata": {
  "kernelspec": {
   "display_name": "Python 3",
   "language": "python",
   "name": "python3"
  },
  "language_info": {
   "codemirror_mode": {
    "name": "ipython",
    "version": 3
   },
   "file_extension": ".py",
   "mimetype": "text/x-python",
   "name": "python",
   "nbconvert_exporter": "python",
   "pygments_lexer": "ipython3",
   "version": "3.6.5"
  }
 },
 "nbformat": 4,
 "nbformat_minor": 2
}
